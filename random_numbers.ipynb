{
 "cells": [
  {
   "cell_type": "code",
   "execution_count": 4,
   "metadata": {},
   "outputs": [],
   "source": [
    "import random "
   ]
  },
  {
   "cell_type": "code",
   "execution_count": 5,
   "metadata": {},
   "outputs": [
    {
     "data": {
      "text/plain": [
       "0.7194060846761079"
      ]
     },
     "execution_count": 5,
     "metadata": {},
     "output_type": "execute_result"
    }
   ],
   "source": [
    "random.random()"
   ]
  },
  {
   "cell_type": "code",
   "execution_count": 8,
   "metadata": {},
   "outputs": [
    {
     "data": {
      "text/plain": [
       "8"
      ]
     },
     "execution_count": 8,
     "metadata": {},
     "output_type": "execute_result"
    }
   ],
   "source": [
    "random.randint(-10,10)"
   ]
  },
  {
   "cell_type": "code",
   "execution_count": 12,
   "metadata": {},
   "outputs": [
    {
     "data": {
      "text/plain": [
       "-2"
      ]
     },
     "execution_count": 12,
     "metadata": {},
     "output_type": "execute_result"
    }
   ],
   "source": [
    "random.randrange(-10,10,2)"
   ]
  },
  {
   "cell_type": "code",
   "execution_count": 13,
   "metadata": {},
   "outputs": [
    {
     "data": {
      "text/plain": [
       "9.801411737591351"
      ]
     },
     "execution_count": 13,
     "metadata": {},
     "output_type": "execute_result"
    }
   ],
   "source": [
    "random.uniform(-10,10)"
   ]
  },
  {
   "cell_type": "code",
   "execution_count": 15,
   "metadata": {},
   "outputs": [
    {
     "data": {
      "text/plain": [
       "-51.5634076332015"
      ]
     },
     "execution_count": 15,
     "metadata": {},
     "output_type": "execute_result"
    }
   ],
   "source": [
    "random_number = random.randint(-90,90)+random.random()\n",
    "random_number"
   ]
  },
  {
   "cell_type": "code",
   "execution_count": 17,
   "metadata": {},
   "outputs": [
    {
     "data": {
      "text/plain": [
       "[0.09176007832993971,\n",
       " -68.91432106145588,\n",
       " -86.69715408575439,\n",
       " -84.31175006845343,\n",
       " -16.830539985549727,\n",
       " 34.73276719078946,\n",
       " 8.345105861307106,\n",
       " 12.270684059925165,\n",
       " 51.337793823625425,\n",
       " 33.76382873449025]"
      ]
     },
     "execution_count": 17,
     "metadata": {},
     "output_type": "execute_result"
    }
   ],
   "source": [
    "x = 1\n",
    "latitudes = []\n",
    "while x < 11:\n",
    "    random_lat = random.randint(-90, 90) + random.random()\n",
    "    latitudes.append(random_lat)\n",
    "    x += 1\n",
    "latitudes"
   ]
  },
  {
   "cell_type": "code",
   "execution_count": 22,
   "metadata": {},
   "outputs": [
    {
     "name": "stdout",
     "output_type": "stream",
     "text": [
      "[-30.233608214854677, 83.2001743978855, 56.91174783700943, -20.79770691633722, -55.847689678493644, 78.72779933918957, 34.540416015053275, -43.99594725491175, 47.60528828376129, -78.65336399673637]\n",
      "[-176.61292015230777, 59.644008894108296, 60.387183995007376, -36.52039525180851, 38.60005863012335, -130.03340398638767, -101.71489020701563, -67.8833402878765, 151.6560431343497, 75.19779978334827]\n"
     ]
    }
   ],
   "source": [
    "latitudes = [ random.randint(-90, 90) + random.random() for x in range(10) ]\n",
    "print(latitudes)\n",
    "longitudes = [ random.randint(-180, 180) + random.random() for x in range(10) ]\n",
    "print(longitudes)"
   ]
  },
  {
   "cell_type": "code",
   "execution_count": 21,
   "metadata": {},
   "outputs": [
    {
     "name": "stdout",
     "output_type": "stream",
     "text": [
      "[-27.513587567435223, -6.033364920868819, 48.81864399626766, -71.38562346259829, -42.76033567758868, -81.916915618347, 39.590220698947384, -75.7479266015216, -65.50473816721984, -61.867429484077576]\n",
      "[56.055332916177406, -170.41568840743932, 4.453502027820512, -152.67359621859075, -66.80503447070885, 141.3784488598087, -120.17669302587872, 43.82464611848744, 25.348636407272583, -95.48089582635089]\n"
     ]
    }
   ],
   "source": [
    "latitudes = [ random.randrange(-90, 90) + random.random() for x in range(10) ]\n",
    "print(latitudes)\n",
    "longitudes = [ random.randrange(-180, 180) + random.random() for x in range(10) ]\n",
    "print(longitudes)"
   ]
  },
  {
   "cell_type": "code",
   "execution_count": 20,
   "metadata": {},
   "outputs": [
    {
     "name": "stdout",
     "output_type": "stream",
     "text": [
      "[36.19448590314717, 27.95476206297336, -89.7218810948011, 44.667213282956766, 53.80337083007635, 81.96923718678585, -76.2684870403702, 64.2669791152089, -77.23103992195993, 1.3937241641102673]\n",
      "[148.86390224331592, -149.92657230262648, -140.66396614402555, 117.17175459488942, 113.46159435138787, -97.63379433949255, -16.95802655022132, 88.72377987874762, 60.66711970367945, 40.85813196570206]\n"
     ]
    }
   ],
   "source": [
    "latitudes = [ random.uniform(-90, 90)  for x in range(10) ]\n",
    "print(latitudes)\n",
    "longitudes = [ random.uniform(-180, 180) for x in range(10) ]\n",
    "print(longitudes)"
   ]
  },
  {
   "cell_type": "code",
   "execution_count": 23,
   "metadata": {},
   "outputs": [],
   "source": [
    "# Import the NumPy module.\n",
    "import numpy as np"
   ]
  },
  {
   "cell_type": "code",
   "execution_count": 24,
   "metadata": {},
   "outputs": [
    {
     "data": {
      "text/plain": [
       "-89.77265716832167"
      ]
     },
     "execution_count": 24,
     "metadata": {},
     "output_type": "execute_result"
    }
   ],
   "source": [
    "np.random.uniform(-90.000,90.000)"
   ]
  },
  {
   "cell_type": "code",
   "execution_count": 25,
   "metadata": {},
   "outputs": [
    {
     "data": {
      "text/plain": [
       "array([-31.42655697,  55.53548693,  51.81760268,  -3.01747666,\n",
       "        89.17841303,  34.08471333,  62.12212885, -17.51437975,\n",
       "        63.58527912,  54.75378416, -85.52576459,   3.58737159,\n",
       "       -23.57962658, -39.61471386, -50.08709211, -61.12478467,\n",
       "        54.49005901,  41.24515381,  84.22165004, -19.13676153,\n",
       "        35.69685336,  36.28367695,  58.38680401, -23.67467382,\n",
       "       -68.85282071,  59.73134553, -38.02309284,  89.64076658,\n",
       "        -4.48391533,  -8.02889283, -83.40613548, -85.09772576,\n",
       "       -78.90383737,  62.83890264, -30.42838806,  59.89606232,\n",
       "        77.95224512,  49.29747742,   6.49488038, -68.4279172 ,\n",
       "        14.96477844, -84.14895986,  68.36035929, -36.38539709,\n",
       "        74.84941808,  66.88889716,  27.83219776, -21.10390438,\n",
       "        62.40347614,  -4.37332558])"
      ]
     },
     "execution_count": 25,
     "metadata": {},
     "output_type": "execute_result"
    }
   ],
   "source": [
    "np.random.uniform(-90.000,90.000,size=1500)"
   ]
  },
  {
   "cell_type": "code",
   "execution_count": 26,
   "metadata": {},
   "outputs": [],
   "source": [
    "# Import timeit.\n",
    "import timeit"
   ]
  },
  {
   "cell_type": "code",
   "execution_count": 30,
   "metadata": {},
   "outputs": [
    {
     "name": "stdout",
     "output_type": "stream",
     "text": [
      "12 µs ± 177 ns per loop (mean ± std. dev. of 7 runs, 100000 loops each)\n"
     ]
    }
   ],
   "source": [
    "%timeit np.random.uniform(-90.000, 90.000, size=1500)"
   ]
  },
  {
   "cell_type": "code",
   "execution_count": 31,
   "metadata": {},
   "outputs": [
    {
     "name": "stdout",
     "output_type": "stream",
     "text": [
      "1.5 ms ± 11.5 µs per loop (mean ± std. dev. of 7 runs, 1000 loops each)\n"
     ]
    }
   ],
   "source": [
    "def latitudes(size):\n",
    "    latitudes = []\n",
    "    x = 0\n",
    "    while x < (size):\n",
    "        random_lat = random.randint(-90, 90) + random.random()\n",
    "        latitudes.append(random_lat)\n",
    "        x += 1\n",
    "    return latitudes\n",
    "# Call the function with 1500. \n",
    "%timeit latitudes(1500)"
   ]
  },
  {
   "cell_type": "code",
   "execution_count": 32,
   "metadata": {},
   "outputs": [
    {
     "name": "stdout",
     "output_type": "stream",
     "text": [
      "337 µs ± 5.32 µs per loop (mean ± std. dev. of 7 runs, 1000 loops each)\n"
     ]
    }
   ],
   "source": [
    "def latitudes1(size):\n",
    "    latitudes = [random.uniform(-90,90) for x in range(size)]\n",
    "    return latitudes\n",
    "%timeit latitudes1(1500)"
   ]
  },
  {
   "cell_type": "code",
   "execution_count": null,
   "metadata": {},
   "outputs": [],
   "source": []
  }
 ],
 "metadata": {
  "kernelspec": {
   "display_name": "PythonData",
   "language": "python",
   "name": "pythondata"
  },
  "language_info": {
   "codemirror_mode": {
    "name": "ipython",
    "version": 3
   },
   "file_extension": ".py",
   "mimetype": "text/x-python",
   "name": "python",
   "nbconvert_exporter": "python",
   "pygments_lexer": "ipython3",
   "version": "3.7.6"
  }
 },
 "nbformat": 4,
 "nbformat_minor": 4
}
